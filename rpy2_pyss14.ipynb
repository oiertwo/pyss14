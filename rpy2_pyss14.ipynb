{
 "metadata": {
  "celltoolbar": "Slideshow",
  "name": "",
  "signature": "sha256:91c730ead36c178a092c6eab799c2be1786d6c2882eff846c092280421aa3944"
 },
 "nbformat": 3,
 "nbformat_minor": 0,
 "worksheets": [
  {
   "cells": [
    {
     "cell_type": "markdown",
     "metadata": {
      "slideshow": {
       "slide_type": "skip"
      }
     },
     "source": [
      "2.- PONER SHINY EN MARCHA\n",
      "3.- PROBAR GGPLOT2!\n",
      "4.- From pandas to R, csv VS\n",
      "memory VS json VS db..."
     ]
    },
    {
     "cell_type": "markdown",
     "metadata": {
      "slideshow": {
       "slide_type": "skip"
      }
     },
     "source": [
      "#Interesting Links:\n",
      "# \n",
      "https://ep2014.europython.eu/en/schedule/sessions/66/\n",
      "# \n",
      "http://www.r-bloggers.com/accessing-r-from-python-using-rpy2/\n",
      "# \n",
      "http://www.slideshare.net/bytemining/rpy2\n",
      "# \n",
      "http://in.pycon.org/2012/funnel/pyconindia2012/58-rpy2-using-r-from-python\n",
      "# \n",
      "http://www.bytemining.com/2010/10/accessing-r-from-python-using-rpy2/\n",
      "\n",
      "####R VS Python:\n",
      "http://www.r-bloggers.com/r-vs-python-practical-data-analysis-nonlinear-regression/\n",
      "# \n",
      "http://inside-bigdata.com/2013/12/09/data-science-wars-python-vs-r/"
     ]
    },
    {
     "cell_type": "markdown",
     "metadata": {
      "slideshow": {
       "slide_type": "slide"
      }
     },
     "source": [
      "#Love story between R and python \n",
      "\n",
      "\n",
      "\n",
      "\n",
      "\n",
      "title by Borja Ayerdi\n"
     ]
    },
    {
     "cell_type": "markdown",
     "metadata": {
      "slideshow": {
       "slide_type": "slide"
      }
     },
     "source": [
      "#WHO AM I\n",
      "<img src=\"images/myself.gif\" align=\"right\">\n",
      "Oier Echaniz Beneitez \n",
      "\n",
      "MsC in Computer Science\n",
      "\n",
      "@oiertwo\n",
      "\n",
      "Working in optimization and Medical Imaging.\n",
      "\n",
      "</img>"
     ]
    },
    {
     "cell_type": "markdown",
     "metadata": {
      "slideshow": {
       "slide_type": "skip"
      }
     },
     "source": [
      "#Walkthrought\n",
      "\n",
      "\n",
      "* Differences between python and R\n",
      "* Why we should combine them / Why I do combine them\n",
      "* Tool comparisson to combine both\n",
      "    * RPy2\n",
      "    * Rserve\n",
      "* Examples\n",
      "    * run R script from python\n",
      "    * passing \"complex\" data from python to R\n",
      "    * runing complex R script from python (web apps) \n"
     ]
    },
    {
     "cell_type": "markdown",
     "metadata": {
      "slideshow": {
       "slide_type": "slide"
      }
     },
     "source": [
      "#advantages of python\n",
      "* dynamic typing, yet strongly typed\n",
      "* an interactive shell for real time testing of code\n",
      "* good rapid application development support\n",
      "* extensive scripting capabilities\n",
      "\n",
      "* primitive data types in python are more flexible for text mining\n",
      "    * tuples for paired, associated data (has no equivalent in R)\n",
      "    * lists are similar to vectors\n",
      "    * dictionaries provide associative arrays (a list with named entries can provide an equivalent in R)\n",
      "\n",
      "* handles the unexpected better\n",
      "    * flexible exceptions (better than R's trycatch)\n",
      "\n",
      "* Python has much larger community with very diverse interests\n",
      "\n",
      "* Robust regular expression engine\n",
      "\n",
      "* Natural Object-oriented features\n",
      "\n",
      "* GUI\n",
      "\n"
     ]
    },
    {
     "cell_type": "markdown",
     "metadata": {
      "slideshow": {
       "slide_type": "subslide"
      }
     },
     "source": [
      "#advantages of R\n",
      "* Data Frames (for now i dont fell so confortable with pandas/numpy dataframes)\n",
      "\n",
      "* Data visualization (standard plot libraries and ggplot2)\n",
      "\n",
      "* Web mining task its surprisingly easier in R than in Python\n",
      "\n",
      "* Factors (Python does not even have an enum primitive data)\n",
      "\n",
      "* Great data analysis routines"
     ]
    },
    {
     "cell_type": "markdown",
     "metadata": {
      "slideshow": {
       "slide_type": "subslide"
      }
     },
     "source": [
      "#Why do I/we need to use them together\n",
      "##If you use python:\n",
      "    * To access to other statistical/machine learning and visualization tools\n",
      "##If you use R:\n",
      "    * To handle better I/O and application issues\n",
      "\n"
     ]
    },
    {
     "cell_type": "markdown",
     "metadata": {
      "slideshow": {
       "slide_type": "subslide"
      }
     },
     "source": [
      "#RPy2\n",
      "\n",
      "* C-level interface between Python and R (R running as an embedded process)\n",
      "* R objects exposed to Python without the need to copy the data over\n",
      "* Conversely, Python's numpy arrays can be exposed to R without making a copy\n",
      "* Low-level interface (close to the R C-API) and high-level interface (for convenience)\n",
      "* In-place modification for vectors and arrays possible\n",
      "* R callback functions can be implemented in Python\n",
      "* Possible to have anonymous R objects with a Python label\n",
      "* Python pickling possible\n",
      "* Full customization of R's behavior with its console (so possible to implement a full R GUI)\n",
      "* MSWindows with limited support\n",
      "\n",
      "#pyrserver\n",
      "* native Python code (will/should/may work with CPython, Jython, IronPython)\n",
      "* use R's Rserve\n",
      "* advantages and inconveniences linked to remote computation and to RServe\n",
      "\n",
      "#PypeR\n",
      "\n",
      "* native Python code (will/should/may work with CPython, Jython, IronPython)\n",
      "* use of pipes (files) to have Python communicate with R (with the advantages and inconveniences linked to it)"
     ]
    },
    {
     "cell_type": "markdown",
     "metadata": {
      "slideshow": {
       "slide_type": "slide"
      }
     },
     "source": [
      "## How to use R in python\n",
      "Using RPy2"
     ]
    },
    {
     "cell_type": "code",
     "collapsed": false,
     "input": [
      "#this needs rpy2 package\n",
      "%load_ext rpy2.ipython"
     ],
     "language": "python",
     "metadata": {
      "slideshow": {
       "slide_type": "slide"
      }
     },
     "outputs": [],
     "prompt_number": 42
    },
    {
     "cell_type": "code",
     "collapsed": false,
     "input": [
      "from IPython.display import FileLink, FileLinks\n",
      "FileLink('SS-WGCNA.R')"
     ],
     "language": "python",
     "metadata": {
      "slideshow": {
       "slide_type": "slide"
      }
     },
     "outputs": [
      {
       "html": [
        "<a href='SS-WGCNA.R' target='_blank'>SS-WGCNA.R</a><br>"
       ],
       "metadata": {},
       "output_type": "pyout",
       "prompt_number": 2,
       "text": [
        "/home/oier/Documents/github/pyss_talks/pyss_talks/rpy2/SS-WGCNA.R"
       ]
      }
     ],
     "prompt_number": 2
    },
    {
     "cell_type": "markdown",
     "metadata": {
      "slideshow": {
       "slide_type": "slide"
      }
     },
     "source": [
      "##Installing and loading R packages from Python"
     ]
    },
    {
     "cell_type": "code",
     "collapsed": false,
     "input": [
      "%%R \n",
      "#FOR INSTALATION:\n",
      "source(\"http://bioconductor.org/biocLite.R\")\n",
      "biocLite(\"impute\")\n",
      "install.packages(\"WGCNA\")"
     ],
     "language": "python",
     "metadata": {
      "slideshow": {
       "slide_type": "fragment"
      }
     },
     "outputs": [
      {
       "metadata": {},
       "output_type": "display_data",
       "text": [
        "Bioconductor version 2.14 (BiocInstaller 1.14.2), ?biocLite for help\n",
        "BioC_mirror: http://bioconductor.org\n",
        "Using Bioconductor version 2.14 (BiocInstaller 1.14.2), R version\n",
        "  3.1.1.\n",
        "Installing package(s) 'impute'\n",
        "trying URL 'http://bioconductor.org/packages/2.14/bioc/src/contrib/impute_1.38.1.tar.gz'\n",
        "Content type 'application/x-gzip' length 641476 bytes (626 Kb)\n",
        "opened URL\n",
        "==================================================\n",
        "downloaded 626 Kb\n",
        "\n",
        "\n",
        "The downloaded source packages are in\n",
        "\t\u2018/tmp/Rtmp54mpVD/downloaded_packages\u2019\n",
        "Installing package into \u2018/home/oier/R/x86_64-pc-linux-gnu-library/3.1\u2019\n",
        "(as \u2018lib\u2019 is unspecified)\n",
        "--- Please select a CRAN mirror for use in this session ---\n",
        "trying URL 'http://cran.univ-lyon1.fr/src/contrib/WGCNA_1.41-1.tar.gz'\n",
        "Content type 'application/x-gzip' length 1036468 bytes (1012 Kb)\n",
        "opened URL\n",
        "==================================================\n",
        "downloaded 1012 Kb\n",
        "\n",
        "\n",
        "The downloaded source packages are in\n",
        "\t\u2018/tmp/Rtmp54mpVD/downloaded_packages\u2019\n"
       ]
      }
     ],
     "prompt_number": 3
    },
    {
     "cell_type": "code",
     "collapsed": false,
     "input": [
      "%%R \n",
      "library(WGCNA);\n",
      "# The following setting is important, do not omit.\n",
      "options(stringsAsFactors = FALSE);"
     ],
     "language": "python",
     "metadata": {
      "slideshow": {
       "slide_type": "subslide"
      }
     },
     "outputs": [
      {
       "metadata": {},
       "output_type": "display_data",
       "text": [
        "Loading required package: dynamicTreeCut\n",
        "Loading required package: flashClust\n",
        "\n",
        "Attaching package: \u2018flashClust\u2019\n",
        "\n",
        "The following object is masked from \u2018package:stats\u2019:\n",
        "\n",
        "    hclust\n",
        "\n",
        "==========================================================================\n",
        "*\n",
        "*  Package WGCNA 1.41.1 loaded.\n",
        "*\n",
        "*    Important note: It appears that your system supports multi-threading,\n",
        "*    but it is not enabled within WGCNA in R. \n",
        "*    To allow multi-threading within WGCNA with all available cores, use \n",
        "*\n",
        "*          allowWGCNAThreads()\n",
        "*\n",
        "*    within R. Use disableWGCNAThreads() to disable threading if necessary.\n",
        "*    Alternatively, set the following environment variable on your system:\n",
        "*\n",
        "*          ALLOW_WGCNA_THREADS=<number_of_processors>\n",
        "*\n",
        "*    for example \n",
        "*\n",
        "*          ALLOW_WGCNA_THREADS=6\n",
        "*\n",
        "*    To set the environment variable in linux bash shell, type \n",
        "*\n",
        "*           export ALLOW_WGCNA_THREADS=6\n",
        "*\n",
        "*     before running R. Other operating systems or shells will\n",
        "*     have a similar command to achieve the same aim.\n",
        "*\n",
        "==========================================================================\n",
        "\n",
        "\n",
        "\n",
        "Attaching package: \u2018WGCNA\u2019\n",
        "\n",
        "The following object is masked from \u2018package:stats\u2019:\n",
        "\n",
        "    cor\n",
        "\n"
       ]
      }
     ],
     "prompt_number": 3
    },
    {
     "cell_type": "code",
     "collapsed": false,
     "input": [
      "#!curl -O https://raw.githubusercontent.com/sr320/eimd/master/data/wgcna/SS-WGCNA.R\n",
      "#copied to the same folder"
     ],
     "language": "python",
     "metadata": {
      "slideshow": {
       "slide_type": "skip"
      }
     },
     "outputs": []
    },
    {
     "cell_type": "markdown",
     "metadata": {
      "slideshow": {
       "slide_type": "slide"
      }
     },
     "source": [
      "#Reading data, using R functions"
     ]
    },
    {
     "cell_type": "code",
     "collapsed": false,
     "input": [
      "%%R\n",
      "#Read in the SS transcriptomic normalize data\n",
      "SSData = read.csv(\"Phel_rnaseq_normalized_expression.csv\");"
     ],
     "language": "python",
     "metadata": {
      "slideshow": {
       "slide_type": "fragment"
      }
     },
     "outputs": [],
     "prompt_number": 4
    },
    {
     "cell_type": "code",
     "collapsed": false,
     "input": [
      "%R -i SSData -o SSData\n",
      "print(SSData)"
     ],
     "language": "python",
     "metadata": {
      "slideshow": {
       "slide_type": "skip"
      }
     },
     "outputs": [
      {
       "ename": "NameError",
       "evalue": "name 'SSData' is not defined",
       "output_type": "pyerr",
       "traceback": [
        "\u001b[1;31m---------------------------------------------------------------------------\u001b[0m\n\u001b[1;31mNameError\u001b[0m                                 Traceback (most recent call last)",
        "\u001b[1;32m<ipython-input-36-bef3778c4d00>\u001b[0m in \u001b[0;36m<module>\u001b[1;34m()\u001b[0m\n\u001b[1;32m----> 1\u001b[1;33m \u001b[0mget_ipython\u001b[0m\u001b[1;33m(\u001b[0m\u001b[1;33m)\u001b[0m\u001b[1;33m.\u001b[0m\u001b[0mmagic\u001b[0m\u001b[1;33m(\u001b[0m\u001b[1;34m'R -i SSData -o SSData'\u001b[0m\u001b[1;33m)\u001b[0m\u001b[1;33m\u001b[0m\u001b[0m\n\u001b[0m\u001b[0;32m      2\u001b[0m \u001b[0mprint\u001b[0m\u001b[1;33m(\u001b[0m\u001b[0mSSData\u001b[0m\u001b[1;33m)\u001b[0m\u001b[1;33m\u001b[0m\u001b[0m\n",
        "\u001b[1;32m/home/oier/envs/pyss14/lib/python3.4/site-packages/IPython/core/interactiveshell.py\u001b[0m in \u001b[0;36mmagic\u001b[1;34m(self, arg_s)\u001b[0m\n\u001b[0;32m   2203\u001b[0m         \u001b[0mmagic_name\u001b[0m\u001b[1;33m,\u001b[0m \u001b[0m_\u001b[0m\u001b[1;33m,\u001b[0m \u001b[0mmagic_arg_s\u001b[0m \u001b[1;33m=\u001b[0m \u001b[0marg_s\u001b[0m\u001b[1;33m.\u001b[0m\u001b[0mpartition\u001b[0m\u001b[1;33m(\u001b[0m\u001b[1;34m' '\u001b[0m\u001b[1;33m)\u001b[0m\u001b[1;33m\u001b[0m\u001b[0m\n\u001b[0;32m   2204\u001b[0m         \u001b[0mmagic_name\u001b[0m \u001b[1;33m=\u001b[0m \u001b[0mmagic_name\u001b[0m\u001b[1;33m.\u001b[0m\u001b[0mlstrip\u001b[0m\u001b[1;33m(\u001b[0m\u001b[0mprefilter\u001b[0m\u001b[1;33m.\u001b[0m\u001b[0mESC_MAGIC\u001b[0m\u001b[1;33m)\u001b[0m\u001b[1;33m\u001b[0m\u001b[0m\n\u001b[1;32m-> 2205\u001b[1;33m         \u001b[1;32mreturn\u001b[0m \u001b[0mself\u001b[0m\u001b[1;33m.\u001b[0m\u001b[0mrun_line_magic\u001b[0m\u001b[1;33m(\u001b[0m\u001b[0mmagic_name\u001b[0m\u001b[1;33m,\u001b[0m \u001b[0mmagic_arg_s\u001b[0m\u001b[1;33m)\u001b[0m\u001b[1;33m\u001b[0m\u001b[0m\n\u001b[0m\u001b[0;32m   2206\u001b[0m \u001b[1;33m\u001b[0m\u001b[0m\n\u001b[0;32m   2207\u001b[0m     \u001b[1;31m#-------------------------------------------------------------------------\u001b[0m\u001b[1;33m\u001b[0m\u001b[1;33m\u001b[0m\u001b[0m\n",
        "\u001b[1;32m/home/oier/envs/pyss14/lib/python3.4/site-packages/IPython/core/interactiveshell.py\u001b[0m in \u001b[0;36mrun_line_magic\u001b[1;34m(self, magic_name, line)\u001b[0m\n\u001b[0;32m   2124\u001b[0m                 \u001b[0mkwargs\u001b[0m\u001b[1;33m[\u001b[0m\u001b[1;34m'local_ns'\u001b[0m\u001b[1;33m]\u001b[0m \u001b[1;33m=\u001b[0m \u001b[0msys\u001b[0m\u001b[1;33m.\u001b[0m\u001b[0m_getframe\u001b[0m\u001b[1;33m(\u001b[0m\u001b[0mstack_depth\u001b[0m\u001b[1;33m)\u001b[0m\u001b[1;33m.\u001b[0m\u001b[0mf_locals\u001b[0m\u001b[1;33m\u001b[0m\u001b[0m\n\u001b[0;32m   2125\u001b[0m             \u001b[1;32mwith\u001b[0m \u001b[0mself\u001b[0m\u001b[1;33m.\u001b[0m\u001b[0mbuiltin_trap\u001b[0m\u001b[1;33m:\u001b[0m\u001b[1;33m\u001b[0m\u001b[0m\n\u001b[1;32m-> 2126\u001b[1;33m                 \u001b[0mresult\u001b[0m \u001b[1;33m=\u001b[0m \u001b[0mfn\u001b[0m\u001b[1;33m(\u001b[0m\u001b[1;33m*\u001b[0m\u001b[0margs\u001b[0m\u001b[1;33m,\u001b[0m\u001b[1;33m**\u001b[0m\u001b[0mkwargs\u001b[0m\u001b[1;33m)\u001b[0m\u001b[1;33m\u001b[0m\u001b[0m\n\u001b[0m\u001b[0;32m   2127\u001b[0m             \u001b[1;32mreturn\u001b[0m \u001b[0mresult\u001b[0m\u001b[1;33m\u001b[0m\u001b[0m\n\u001b[0;32m   2128\u001b[0m \u001b[1;33m\u001b[0m\u001b[0m\n",
        "\u001b[1;32m/home/oier/envs/pyss14/lib/python3.4/site-packages/rpy2/ipython/rmagic.py\u001b[0m in \u001b[0;36mR\u001b[1;34m(self, line, cell, local_ns)\u001b[0m\n",
        "\u001b[1;32m/home/oier/envs/pyss14/lib/python3.4/site-packages/IPython/core/magic.py\u001b[0m in \u001b[0;36m<lambda>\u001b[1;34m(f, *a, **k)\u001b[0m\n\u001b[0;32m    191\u001b[0m     \u001b[1;31m# but it's overkill for just that one bit of state.\u001b[0m\u001b[1;33m\u001b[0m\u001b[1;33m\u001b[0m\u001b[0m\n\u001b[0;32m    192\u001b[0m     \u001b[1;32mdef\u001b[0m \u001b[0mmagic_deco\u001b[0m\u001b[1;33m(\u001b[0m\u001b[0marg\u001b[0m\u001b[1;33m)\u001b[0m\u001b[1;33m:\u001b[0m\u001b[1;33m\u001b[0m\u001b[0m\n\u001b[1;32m--> 193\u001b[1;33m         \u001b[0mcall\u001b[0m \u001b[1;33m=\u001b[0m \u001b[1;32mlambda\u001b[0m \u001b[0mf\u001b[0m\u001b[1;33m,\u001b[0m \u001b[1;33m*\u001b[0m\u001b[0ma\u001b[0m\u001b[1;33m,\u001b[0m \u001b[1;33m**\u001b[0m\u001b[0mk\u001b[0m\u001b[1;33m:\u001b[0m \u001b[0mf\u001b[0m\u001b[1;33m(\u001b[0m\u001b[1;33m*\u001b[0m\u001b[0ma\u001b[0m\u001b[1;33m,\u001b[0m \u001b[1;33m**\u001b[0m\u001b[0mk\u001b[0m\u001b[1;33m)\u001b[0m\u001b[1;33m\u001b[0m\u001b[0m\n\u001b[0m\u001b[0;32m    194\u001b[0m \u001b[1;33m\u001b[0m\u001b[0m\n\u001b[0;32m    195\u001b[0m         \u001b[1;32mif\u001b[0m \u001b[0mcallable\u001b[0m\u001b[1;33m(\u001b[0m\u001b[0marg\u001b[0m\u001b[1;33m)\u001b[0m\u001b[1;33m:\u001b[0m\u001b[1;33m\u001b[0m\u001b[0m\n",
        "\u001b[1;32m/home/oier/envs/pyss14/lib/python3.4/site-packages/rpy2/ipython/rmagic.py\u001b[0m in \u001b[0;36mR\u001b[1;34m(self, line, cell, local_ns)\u001b[0m\n\u001b[0;32m    607\u001b[0m                         \u001b[0mval\u001b[0m \u001b[1;33m=\u001b[0m \u001b[0mself\u001b[0m\u001b[1;33m.\u001b[0m\u001b[0mshell\u001b[0m\u001b[1;33m.\u001b[0m\u001b[0muser_ns\u001b[0m\u001b[1;33m[\u001b[0m\u001b[0minput\u001b[0m\u001b[1;33m]\u001b[0m\u001b[1;33m\u001b[0m\u001b[0m\n\u001b[0;32m    608\u001b[0m                     \u001b[1;32mexcept\u001b[0m \u001b[0mKeyError\u001b[0m\u001b[1;33m:\u001b[0m\u001b[1;33m\u001b[0m\u001b[0m\n\u001b[1;32m--> 609\u001b[1;33m                         \u001b[1;32mraise\u001b[0m \u001b[0mNameError\u001b[0m\u001b[1;33m(\u001b[0m\u001b[1;34m\"name '%s' is not defined\"\u001b[0m \u001b[1;33m%\u001b[0m \u001b[0minput\u001b[0m\u001b[1;33m)\u001b[0m\u001b[1;33m\u001b[0m\u001b[0m\n\u001b[0m\u001b[0;32m    610\u001b[0m                 \u001b[0mro\u001b[0m\u001b[1;33m.\u001b[0m\u001b[0mr\u001b[0m\u001b[1;33m.\u001b[0m\u001b[0massign\u001b[0m\u001b[1;33m(\u001b[0m\u001b[0minput\u001b[0m\u001b[1;33m,\u001b[0m \u001b[0mself\u001b[0m\u001b[1;33m.\u001b[0m\u001b[0mpyconverter\u001b[0m\u001b[1;33m(\u001b[0m\u001b[0mval\u001b[0m\u001b[1;33m)\u001b[0m\u001b[1;33m)\u001b[0m\u001b[1;33m\u001b[0m\u001b[0m\n\u001b[0;32m    611\u001b[0m \u001b[1;33m\u001b[0m\u001b[0m\n",
        "\u001b[1;31mNameError\u001b[0m: name 'SSData' is not defined"
       ]
      }
     ],
     "prompt_number": 36
    },
    {
     "cell_type": "markdown",
     "metadata": {
      "slideshow": {
       "slide_type": "slide"
      }
     },
     "source": [
      "#Common R functions"
     ]
    },
    {
     "cell_type": "code",
     "collapsed": false,
     "input": [
      "%%R\n",
      "# Take a quick look at what is in the data set:\n",
      "dim(SSData);"
     ],
     "language": "python",
     "metadata": {
      "slideshow": {
       "slide_type": "fragment"
      }
     },
     "outputs": [
      {
       "metadata": {},
       "output_type": "display_data",
       "text": [
        "[1] 908   7\n"
       ]
      }
     ],
     "prompt_number": 5
    },
    {
     "cell_type": "code",
     "collapsed": false,
     "input": [
      "%R print(names(SSData))\n",
      "# Take a quick look at what is in the data set:\n",
      "ssdatanames = %R names(SSData)\n",
      "ssdatanames\n"
     ],
     "language": "python",
     "metadata": {
      "slideshow": {
       "slide_type": "fragment"
      }
     },
     "outputs": [
      {
       "metadata": {},
       "output_type": "display_data",
       "text": [
        "[1] \"Contig\"  \"HK_CF2\"  \"HK_CF35\" \"HK_CF70\" \"V_CF26\"  \"V_CF34\"  \"V_CF71\" \n"
       ]
      },
      {
       "metadata": {},
       "output_type": "pyout",
       "prompt_number": 27,
       "text": [
        "<StrVector - Python:0x7f1f8e764808 / R:0x2bdaa10>\n",
        "['Cont..., 'HK_C..., 'HK_C..., ..., 'V_CF..., 'V_CF..., 'V_CF...]"
       ]
      }
     ],
     "prompt_number": 27
    },
    {
     "cell_type": "code",
     "collapsed": false,
     "input": [
      "%%R \n",
      "datExpr0 = as.data.frame(t(SSData[c(2:7)]));\n",
      "names(datExpr0) = SSData$Contig;\n",
      "rownames(datExpr0) = names(SSData)[c(2:7)];"
     ],
     "language": "python",
     "metadata": {
      "slideshow": {
       "slide_type": "fragment"
      }
     },
     "outputs": [],
     "prompt_number": 7
    },
    {
     "cell_type": "code",
     "collapsed": false,
     "input": [
      "%%R \n",
      "# you can check each if you want to make sure\n",
      "datExpr0[1:10]"
     ],
     "language": "python",
     "metadata": {
      "slideshow": {
       "slide_type": "subslide"
      }
     },
     "outputs": [
      {
       "metadata": {},
       "output_type": "display_data",
       "text": [
        "        Phel_clc_contig_11415 Phel_clc_contig_14856 Phel_clc_contig_15144\n",
        "HK_CF2               8.603119              9.045528              6.440085\n",
        "HK_CF35              8.616949              8.863446              6.137256\n",
        "HK_CF70              6.724346              5.463600              3.440647\n",
        "V_CF26               5.168173              4.766452              3.661305\n",
        "V_CF34               6.990049              5.489591              3.015319\n",
        "V_CF71               5.111344              6.285546              2.791543\n",
        "        Phel_clc_contig_21852 Phel_clc_contig_13987 Phel_clc_contig_11724\n",
        "HK_CF2               8.402648              8.990841              7.161614\n",
        "HK_CF35              7.826429              8.356951              6.804709\n",
        "HK_CF70              4.874836              7.958111              5.503333\n",
        "V_CF26               3.661305              6.147972              3.283788\n",
        "V_CF34               5.443355              5.814197              1.273277\n",
        "V_CF71               4.936327              3.442652              4.070089\n",
        "        Phel_clc_contig_24226 Phel_clc_contig_27517 Phel_clc_contig_27719\n",
        "HK_CF2               5.791280              4.990646              5.666563\n",
        "HK_CF35              5.160142              4.406094              5.209898\n",
        "HK_CF70              4.089049              3.266861              4.089049\n",
        "V_CF26               0.000000              0.000000              0.000000\n",
        "V_CF34               0.000000              1.273277              1.273277\n",
        "V_CF71               1.572696              0.000000              0.000000\n",
        "        Phel_clc_contig_9726\n",
        "HK_CF2              6.971349\n",
        "HK_CF35             6.503268\n",
        "HK_CF70             5.380691\n",
        "V_CF26              4.766452\n",
        "V_CF34              3.781748\n",
        "V_CF71              3.442652\n"
       ]
      }
     ],
     "prompt_number": 8
    },
    {
     "cell_type": "code",
     "collapsed": false,
     "input": [
      "%%R \n",
      "#because it was taken from http://labs.genetics.ucla.edu/horvath/CoexpressionNetwork/Rpackages/WGCNA/Tutorials/index.html\n",
      "datExpr=datExpr0"
     ],
     "language": "python",
     "metadata": {
      "slideshow": {
       "slide_type": "subslide"
      }
     },
     "outputs": [],
     "prompt_number": 9
    },
    {
     "cell_type": "code",
     "collapsed": false,
     "input": [
      "%%R\n",
      "gsg = goodSamplesGenes(datExpr0, verbose = 3);\n",
      "gsg$allOK\n",
      "collectGarbage();"
     ],
     "language": "python",
     "metadata": {
      "slideshow": {
       "slide_type": "fragment"
      }
     },
     "outputs": [
      {
       "metadata": {},
       "output_type": "display_data",
       "text": [
        " Flagging genes and samples with too many missing values...\n",
        "  ..step 1\n"
       ]
      }
     ],
     "prompt_number": 10
    },
    {
     "cell_type": "code",
     "collapsed": false,
     "input": [
      "pylab inline"
     ],
     "language": "python",
     "metadata": {
      "slideshow": {
       "slide_type": "skip"
      }
     },
     "outputs": [
      {
       "output_type": "stream",
       "stream": "stdout",
       "text": [
        "Populating the interactive namespace from numpy and matplotlib\n"
       ]
      }
     ],
     "prompt_number": 11
    },
    {
     "cell_type": "code",
     "collapsed": false,
     "input": [
      "#pylab inline didn't work, trying the below command to paste in resulting image:\n",
      "from IPython.display import display"
     ],
     "language": "python",
     "metadata": {
      "slideshow": {
       "slide_type": "skip"
      }
     },
     "outputs": [],
     "prompt_number": 86
    },
    {
     "cell_type": "code",
     "collapsed": false,
     "input": [
      "from IPython.display import display_pretty, display_html, display_jpeg, display_png, display_json, display_latex, display_svg, display_pdf"
     ],
     "language": "python",
     "metadata": {
      "slideshow": {
       "slide_type": "skip"
      }
     },
     "outputs": [],
     "prompt_number": 87
    },
    {
     "cell_type": "code",
     "collapsed": false,
     "input": [
      "from IPython.display import Image"
     ],
     "language": "python",
     "metadata": {
      "slideshow": {
       "slide_type": "skip"
      }
     },
     "outputs": [],
     "prompt_number": 88
    },
    {
     "cell_type": "code",
     "collapsed": false,
     "input": [
      "%%R\n",
      "powers = c(c(1:10), seq(from = 12, to=20, by=2))\n",
      "# Call the network topology analysis function\n",
      "sft = pickSoftThreshold(datExpr, powerVector = powers, verbose = 5)\n",
      "#save plots START:\n",
      "png(\"images/WGCNA_Rplot_SS.png\")\n",
      "\n",
      "# Plot the results:\n",
      "sizeGrWindow(9, 5)\n",
      "par(mfrow = c(1,2));\n",
      "cex1 = 0.9;\n",
      "# Scale-free topology fit index as a function of the soft-thresholding power\n",
      "plot(sft$fitIndices[,1], -sign(sft$fitIndices[,3])*sft$fitIndices[,2],\n",
      "xlab=\"Soft Threshold (power)\",ylab=\"Scale Free Topology Model Fit,signed R^2\",type=\"n\",\n",
      "main = paste(\"Scale independence\"));\n",
      "text(sft$fitIndices[,1], -sign(sft$fitIndices[,3])*sft$fitIndices[,2],\n",
      "labels=powers,cex=cex1,col=\"red\");\n",
      "# this line corresponds to using an R^2 cut-off of h\n",
      "abline(h=0.90,col=\"red\")\n",
      "# Mean connectivity as a function of the soft-thresholding power\n",
      "plot(sft$fitIndices[,1], sft$fitIndices[,5],\n",
      "xlab=\"Soft Threshold (power)\",ylab=\"Mean Connectivity\", type=\"n\",\n",
      "main = paste(\"Mean connectivity\"))\n",
      "text(sft$fitIndices[,1], sft$fitIndices[,5], labels=powers, cex=cex1,col=\"red\")\n",
      "\n",
      "#close created window for ploting\n",
      "dev.off()"
     ],
     "language": "python",
     "metadata": {
      "slideshow": {
       "slide_type": "slide"
      }
     },
     "outputs": [
      {
       "metadata": {},
       "output_type": "display_data",
       "text": [
        "pickSoftThreshold: will use block size 908.\n",
        " pickSoftThreshold: calculating connectivity for given powers...\n",
        "   ..working on genes 1 through 908 of 908\n",
        "   Power SFT.R.sq   slope truncated.R.sq mean.k. median.k. max.k.\n",
        "1      1   0.9840 11.3000          0.981     768       781    835\n",
        "2      2   0.9710  5.7600          0.963     663       681    772\n",
        "3      3   0.9660  3.8100          0.958     579       600    716\n",
        "4      4   0.9500  2.8200          0.938     512       532    667\n",
        "5      5   0.9550  2.2200          0.953     456       477    624\n",
        "6      6   0.9420  1.8100          0.962     410       429    585\n",
        "7      7   0.9190  1.4900          0.951     371       388    550\n",
        "8      8   0.8840  1.2500          0.919     337       353    518\n",
        "9      9   0.8380  1.0300          0.888     308       322    489\n",
        "10    10   0.8100  0.8630          0.882     283       295    463\n",
        "11    12   0.6790  0.6320          0.848     242       250    417\n",
        "12    14   0.5510  0.4840          0.867     209       215    378\n",
        "13    16   0.3450  0.3230          0.823     183       187    344\n",
        "14    18   0.1630  0.1970          0.795     161       163    315\n",
        "15    20   0.0474  0.0976          0.780     143       144    290\n",
        "[1] 2\n"
       ]
      }
     ],
     "prompt_number": 15
    },
    {
     "cell_type": "code",
     "collapsed": false,
     "input": [
      "Image(filename='images/WGCNA_Rplot_SS.png')"
     ],
     "language": "python",
     "metadata": {
      "slideshow": {
       "slide_type": "subslide"
      }
     },
     "outputs": [
      {
       "metadata": {},
       "output_type": "pyout",
       "png": "[encoded data removed]",
       "prompt_number": 20,
       "text": [
        "<IPython.core.display.Image at 0x7f4e818b15f8>"
       ]
      }
     ],
     "prompt_number": 20
    },
    {
     "cell_type": "code",
     "collapsed": false,
     "input": [
      "%%R\n",
      "png(\"images/SS-dendogram.png\")\n",
      "\n",
      "net = blockwiseModules(datExpr, power = 10,\n",
      "                       TOMType = \"unsigned\", minModuleSize = 9,\n",
      "                       reassignThreshold = 0, mergeCutHeight = 0.0)\n",
      "sizeGrWindow(12, 9)\n",
      "# Convert labels to colors for plotting\n",
      "mergedColors = labels2colors(net$colors)\n",
      "# Plot the dendrogram and the module colors underneath\n",
      "plotDendroAndColors(net$dendrograms[[1]], mergedColors[net$blockGenes[[1]]], \"Module colors\",\n",
      "                    dendroLabels = FALSE, hang = 0.03, addGuide = TRUE, guideHang = 0.05,\n",
      "                    numericLabels = TRUE, pamRespectsDendro = FALSE,\n",
      "                    saveTOMs = TRUE, saveTOMFileBase = \"SSsig900Transcripts\",\n",
      "                    verbose = 3)\n",
      "\n",
      "dev.off()"
     ],
     "language": "python",
     "metadata": {
      "slideshow": {
       "slide_type": "subslide"
      }
     },
     "outputs": [
      {
       "output_type": "stream",
       "stream": "stdout",
       "text": [
        "Error in withVisible({ : could not find function \"blockwiseModules\"\n"
       ]
      }
     ],
     "prompt_number": 36
    },
    {
     "cell_type": "code",
     "collapsed": false,
     "input": [
      "Image(filename='images/SS-dendogram.png')"
     ],
     "language": "python",
     "metadata": {
      "slideshow": {
       "slide_type": "subslide"
      }
     },
     "outputs": []
    },
    {
     "cell_type": "code",
     "collapsed": false,
     "input": [
      "%%R\n",
      "png(\"images/SS-dendogram2.png\")\n",
      "\n",
      "sizeGrWindow(12, 9)\n",
      "# Convert labels to colors for plotting\n",
      "mergedColors = labels2colors(net$colors)\n",
      "# Plot the dendrogram and the module colors underneath\n",
      "plotDendroAndColors(net$dendrograms[[1]], mergedColors[net$blockGenes[[1]]],\n",
      "                    \"Module colors\", dendroLabels = FALSE, hang = 0.03,\n",
      "                    addGuide = TRUE, guideHang = 0.05)\n",
      "\n",
      "dev.off()"
     ],
     "language": "python",
     "metadata": {
      "slideshow": {
       "slide_type": "slide"
      }
     },
     "outputs": [
      {
       "output_type": "stream",
       "stream": "stdout",
       "text": [
        "Error in labels2colors(net$colors) : object 'net' not found\n",
        "In addition: Warning message:\n",
        "executing %dopar% sequentially: no parallel backend registered\n",
        "Error in labels2colors(net$colors) : object 'net' not found\n"
       ]
      }
     ],
     "prompt_number": 17
    },
    {
     "cell_type": "code",
     "collapsed": false,
     "input": [
      "Image(filename='images/SS-dendogram2.png')"
     ],
     "language": "python",
     "metadata": {
      "slideshow": {
       "slide_type": "slide"
      }
     },
     "outputs": []
    },
    {
     "cell_type": "code",
     "collapsed": false,
     "input": [
      "%%R\n",
      "moduleLabels = net$colors\n",
      "moduleColors = labels2colors(net$colors)\n",
      "table (moduleColors)"
     ],
     "language": "python",
     "metadata": {
      "slideshow": {
       "slide_type": "slide"
      }
     },
     "outputs": []
    },
    {
     "cell_type": "code",
     "collapsed": false,
     "input": [
      "%%R\n",
      "# to export to a file and get the colors code back to contig no.\n",
      "Genes = names(datExpr) \n",
      "geneInfo = data.frame(Contig = Genes, moduleColor = moduleColors) \n",
      "write.csv(geneInfo, file = \"SSsig900Transcripts_geneInfo.csv\")"
     ],
     "language": "python",
     "metadata": {
      "slideshow": {
       "slide_type": "slide"
      }
     },
     "outputs": []
    },
    {
     "cell_type": "markdown",
     "metadata": {
      "slideshow": {
       "slide_type": "slide"
      }
     },
     "source": [
      "#Pandas dataframe and R dataframe\n",
      "\n",
      "Pandas DataFrame is based on R's dataframe\n",
      "\n",
      "#Similarities \n",
      "\n",
      "* Both allow column-wise operations, they are tabular...\n",
      "* multi-level indexing: create indexes based not only on row numbers, but also on dates, numbers, categorical variables...\n",
      "* select using masks (where/which)"
     ]
    },
    {
     "cell_type": "markdown",
     "metadata": {
      "slideshow": {
       "slide_type": "fragment"
      }
     },
     "source": [
      "#Differences:\n",
      "* The way you operate on the data frames:\n",
      "    * In R DataFrames are used to call static functions: function(data.frame)\n",
      "        * much more confortable (language created to do this things)\n",
      "        \n",
      "    * In Python DataFrames ar objects with functions \"inside\" them: DataFrame.function()\n",
      "        * python can handle this kind of nasty things"
     ]
    },
    {
     "cell_type": "code",
     "collapsed": false,
     "input": [
      "import pandas.rpy.common as com"
     ],
     "language": "python",
     "metadata": {
      "slideshow": {
       "slide_type": "slide"
      }
     },
     "outputs": [],
     "prompt_number": 3
    },
    {
     "cell_type": "code",
     "collapsed": false,
     "input": [
      "infert = com.load_data('infert')\n",
      "infert.head()"
     ],
     "language": "python",
     "metadata": {
      "slideshow": {
       "slide_type": "fragment"
      }
     },
     "outputs": [
      {
       "html": [
        "<div style=\"max-height:1000px;max-width:1500px;overflow:auto;\">\n",
        "<table border=\"1\" class=\"dataframe\">\n",
        "  <thead>\n",
        "    <tr style=\"text-align: right;\">\n",
        "      <th></th>\n",
        "      <th>education</th>\n",
        "      <th>age</th>\n",
        "      <th>parity</th>\n",
        "      <th>induced</th>\n",
        "      <th>case</th>\n",
        "      <th>spontaneous</th>\n",
        "      <th>stratum</th>\n",
        "      <th>pooled.stratum</th>\n",
        "    </tr>\n",
        "  </thead>\n",
        "  <tbody>\n",
        "    <tr>\n",
        "      <th>1</th>\n",
        "      <td>  0-5yrs</td>\n",
        "      <td> 26</td>\n",
        "      <td> 6</td>\n",
        "      <td> 1</td>\n",
        "      <td> 1</td>\n",
        "      <td> 2</td>\n",
        "      <td> 1</td>\n",
        "      <td>  3</td>\n",
        "    </tr>\n",
        "    <tr>\n",
        "      <th>2</th>\n",
        "      <td>  0-5yrs</td>\n",
        "      <td> 42</td>\n",
        "      <td> 1</td>\n",
        "      <td> 1</td>\n",
        "      <td> 1</td>\n",
        "      <td> 0</td>\n",
        "      <td> 2</td>\n",
        "      <td>  1</td>\n",
        "    </tr>\n",
        "    <tr>\n",
        "      <th>3</th>\n",
        "      <td>  0-5yrs</td>\n",
        "      <td> 39</td>\n",
        "      <td> 6</td>\n",
        "      <td> 2</td>\n",
        "      <td> 1</td>\n",
        "      <td> 0</td>\n",
        "      <td> 3</td>\n",
        "      <td>  4</td>\n",
        "    </tr>\n",
        "    <tr>\n",
        "      <th>4</th>\n",
        "      <td>  0-5yrs</td>\n",
        "      <td> 34</td>\n",
        "      <td> 4</td>\n",
        "      <td> 2</td>\n",
        "      <td> 1</td>\n",
        "      <td> 0</td>\n",
        "      <td> 4</td>\n",
        "      <td>  2</td>\n",
        "    </tr>\n",
        "    <tr>\n",
        "      <th>5</th>\n",
        "      <td> 6-11yrs</td>\n",
        "      <td> 35</td>\n",
        "      <td> 3</td>\n",
        "      <td> 1</td>\n",
        "      <td> 1</td>\n",
        "      <td> 1</td>\n",
        "      <td> 5</td>\n",
        "      <td> 32</td>\n",
        "    </tr>\n",
        "  </tbody>\n",
        "</table>\n",
        "</div>"
       ],
       "metadata": {},
       "output_type": "pyout",
       "prompt_number": 5,
       "text": [
        "  education  age  parity  induced  case  spontaneous  stratum  pooled.stratum\n",
        "1    0-5yrs   26       6        1     1            2        1               3\n",
        "2    0-5yrs   42       1        1     1            0        2               1\n",
        "3    0-5yrs   39       6        2     1            0        3               4\n",
        "4    0-5yrs   34       4        2     1            0        4               2\n",
        "5   6-11yrs   35       3        1     1            1        5              32"
       ]
      }
     ],
     "prompt_number": 5
    },
    {
     "cell_type": "code",
     "collapsed": false,
     "input": [
      "from pandas import DataFrame"
     ],
     "language": "python",
     "metadata": {
      "slideshow": {
       "slide_type": "slide"
      }
     },
     "outputs": [],
     "prompt_number": 7
    },
    {
     "cell_type": "code",
     "collapsed": false,
     "input": [
      "df = DataFrame({'A': [1, 2, 3], 'B': [4, 5, 6], 'C':[7,8,9]},index=[\"one\", \"two\", \"three\"])\n",
      "rdf = com.convert_to_r_dataframe(df)"
     ],
     "language": "python",
     "metadata": {
      "slideshow": {
       "slide_type": "slide"
      }
     },
     "outputs": [],
     "prompt_number": 17
    },
    {
     "cell_type": "code",
     "collapsed": false,
     "input": [
      "print(type(rdf))"
     ],
     "language": "python",
     "metadata": {
      "slideshow": {
       "slide_type": "slide"
      }
     },
     "outputs": [
      {
       "output_type": "stream",
       "stream": "stdout",
       "text": [
        "<class 'rpy2.robjects.vectors.DataFrame'>\n"
       ]
      }
     ],
     "prompt_number": 9
    },
    {
     "cell_type": "code",
     "collapsed": false,
     "input": [
      "print(df)"
     ],
     "language": "python",
     "metadata": {
      "slideshow": {
       "slide_type": "slide"
      }
     },
     "outputs": [
      {
       "output_type": "stream",
       "stream": "stdout",
       "text": [
        "       A  B  C\n",
        "one    1  4  7\n",
        "two    2  5  8\n",
        "three  3  6  9\n"
       ]
      }
     ],
     "prompt_number": 11
    },
    {
     "cell_type": "code",
     "collapsed": false,
     "input": [
      "print(rdf)"
     ],
     "language": "python",
     "metadata": {
      "slideshow": {
       "slide_type": "slide"
      }
     },
     "outputs": [
      {
       "output_type": "stream",
       "stream": "stdout",
       "text": [
        "      A B C\n",
        "one   1 4 7\n",
        "two   2 5 8\n",
        "three 3 6 9\n",
        "\n"
       ]
      }
     ],
     "prompt_number": 12
    },
    {
     "cell_type": "code",
     "collapsed": false,
     "input": [
      "%%R\n",
      "rdf"
     ],
     "language": "python",
     "metadata": {
      "slideshow": {
       "slide_type": "slide"
      }
     },
     "outputs": [
      {
       "output_type": "stream",
       "stream": "stdout",
       "text": [
        "Error in withVisible({ : object 'rdf' not found\n"
       ]
      }
     ],
     "prompt_number": 19
    },
    {
     "cell_type": "markdown",
     "metadata": {
      "slideshow": {
       "slide_type": "skip"
      }
     },
     "source": [
      "#memory"
     ]
    },
    {
     "cell_type": "code",
     "collapsed": false,
     "input": [
      "from numpy import random"
     ],
     "language": "python",
     "metadata": {
      "slideshow": {
       "slide_type": "skip"
      }
     },
     "outputs": [],
     "prompt_number": 33
    },
    {
     "cell_type": "code",
     "collapsed": false,
     "input": [
      "#consumes some time\n",
      "DataFrame(random.randn(1000000,20)).to_csv('test.csv')\n",
      "!ls -ltr test.csv"
     ],
     "language": "python",
     "metadata": {
      "slideshow": {
       "slide_type": "skip"
      }
     },
     "outputs": [
      {
       "output_type": "stream",
       "stream": "stdout",
       "text": [
        "-rw-r--r-- 1 oier oier 399506983 Sep 22 12:14 test.csv\r\n"
       ]
      }
     ],
     "prompt_number": 34
    },
    {
     "cell_type": "code",
     "collapsed": false,
     "input": [
      "df.values.nbytes + df.index.nbytes + df.columns.nbytes"
     ],
     "language": "python",
     "metadata": {
      "slideshow": {
       "slide_type": "skip"
      }
     },
     "outputs": [
      {
       "metadata": {},
       "output_type": "pyout",
       "prompt_number": 35,
       "text": [
        "120"
       ]
      }
     ],
     "prompt_number": 35
    },
    {
     "cell_type": "markdown",
     "metadata": {
      "slideshow": {
       "slide_type": "slide"
      }
     },
     "source": [
      "#RPy2 Example"
     ]
    },
    {
     "cell_type": "code",
     "collapsed": false,
     "input": [
      "import rpy2.robjects as robjects"
     ],
     "language": "python",
     "metadata": {
      "slideshow": {
       "slide_type": "slide"
      }
     },
     "outputs": []
    },
    {
     "cell_type": "code",
     "collapsed": false,
     "input": [
      "r = robjects.r\n",
      "\n",
      "x = robjects.IntVector(range(10))\n",
      "\n",
      "print(y)\n"
     ],
     "language": "python",
     "metadata": {
      "slideshow": {
       "slide_type": "fragment"
      }
     },
     "outputs": [
      {
       "output_type": "stream",
       "stream": "stdout",
       "text": [
        " [1]  0.447494133  0.988495880 -1.460481342  1.623552691 -0.003087887\n",
        " [6] -0.368144880  0.688496346 -0.457342116 -0.579126839 -0.229397127\n",
        "\n"
       ]
      }
     ],
     "prompt_number": 42
    },
    {
     "cell_type": "code",
     "collapsed": false,
     "input": [
      "print(r.summary(x))"
     ],
     "language": "python",
     "metadata": {
      "slideshow": {
       "slide_type": "fragment"
      }
     },
     "outputs": [
      {
       "output_type": "stream",
       "stream": "stdout",
       "text": [
        "   Min. 1st Qu.  Median    Mean 3rd Qu.    Max. \n",
        "   0.00    2.25    4.50    4.50    6.75    9.00 \n",
        "\n"
       ]
      }
     ],
     "prompt_number": 43
    },
    {
     "cell_type": "markdown",
     "metadata": {
      "slideshow": {
       "slide_type": "slide"
      }
     },
     "source": [
      "#Custom functions with RPy2"
     ]
    },
    {
     "cell_type": "code",
     "collapsed": false,
     "input": [
      "r_source = robjects.r['source']\n",
      "r_source('/path/to/file/myfunc.R') #will load/run the script\n",
      "r_func = robjects.globalenv['function_name']"
     ],
     "language": "python",
     "metadata": {
      "slideshow": {
       "slide_type": "subslide"
      }
     },
     "outputs": []
    },
    {
     "cell_type": "code",
     "collapsed": false,
     "input": [
      "robjects.r('''\n",
      "rnorm(10)\n",
      "''')"
     ],
     "language": "python",
     "metadata": {
      "slideshow": {
       "slide_type": "fragment"
      }
     },
     "outputs": [
      {
       "metadata": {},
       "output_type": "pyout",
       "prompt_number": 59,
       "text": [
        "<FloatVector - Python:0x7f1f8e78aac8 / R:0x214f0a8>\n",
        "[0.347324, 0.147054, -0.159414, ..., -0.499661, 0.308310, 1.055797]"
       ]
      }
     ],
     "prompt_number": 59
    },
    {
     "cell_type": "code",
     "collapsed": false,
     "input": [
      "robjects.r('''\n",
      "pyss <- function(a,b){\n",
      "    print(c(a,\">-----\",b))\n",
      "}\n",
      "''')"
     ],
     "language": "python",
     "metadata": {
      "slideshow": {
       "slide_type": "subslide"
      }
     },
     "outputs": [
      {
       "metadata": {},
       "output_type": "pyout",
       "prompt_number": 60,
       "text": [
        "<SignatureTranslatedFunction - Python:0x7f1f8e763dc8 / R:0x23d5aa8>"
       ]
      }
     ],
     "prompt_number": 60
    },
    {
     "cell_type": "code",
     "collapsed": false,
     "input": [
      "r_func = robjects.globalenv['pyss']\n",
      "r_func(1,4)"
     ],
     "language": "python",
     "metadata": {
      "slideshow": {
       "slide_type": "fragment"
      }
     },
     "outputs": [
      {
       "metadata": {},
       "output_type": "pyout",
       "prompt_number": 61,
       "text": [
        "<StrVector - Python:0x7f1f8e788c08 / R:0x38849a0>\n",
        "['1', '>-----', '4']"
       ]
      }
     ],
     "prompt_number": 61
    },
    {
     "cell_type": "code",
     "collapsed": false,
     "input": [
      "%load \"pyss2.R\""
     ],
     "language": "python",
     "metadata": {
      "slideshow": {
       "slide_type": "subslide"
      }
     },
     "outputs": [],
     "prompt_number": 82
    },
    {
     "cell_type": "code",
     "collapsed": false,
     "input": [
      "pyss2 <- function(a,b){\n",
      "  \n",
      "  c <- mean(a)\n",
      "  return( b - c)\n",
      "  \n",
      "}"
     ],
     "language": "python",
     "metadata": {
      "slideshow": {
       "slide_type": "fragment"
      }
     },
     "outputs": []
    },
    {
     "cell_type": "code",
     "collapsed": false,
     "input": [
      "r_source = robjects.r['source']\n",
      "r_source('pyss2.R') #will load/run the script\n",
      "r_func = robjects.globalenv['pyss2']\n",
      "a = robjects.r.rnorm(10)\n",
      "b = robjects.r.rnorm(10)\n",
      "c = r_func(a,b)\n",
      "print(a)\n",
      "print(b)\n",
      "print(c)"
     ],
     "language": "python",
     "metadata": {
      "slideshow": {
       "slide_type": "fragment"
      }
     },
     "outputs": [
      {
       "ename": "NameError",
       "evalue": "name 'robjects' is not defined",
       "output_type": "pyerr",
       "traceback": [
        "\u001b[1;31m---------------------------------------------------------------------------\u001b[0m\n\u001b[1;31mNameError\u001b[0m                                 Traceback (most recent call last)",
        "\u001b[1;32m<ipython-input-83-1f9384ff4920>\u001b[0m in \u001b[0;36m<module>\u001b[1;34m()\u001b[0m\n\u001b[1;32m----> 1\u001b[1;33m \u001b[0mr_source\u001b[0m \u001b[1;33m=\u001b[0m \u001b[0mrobjects\u001b[0m\u001b[1;33m.\u001b[0m\u001b[0mr\u001b[0m\u001b[1;33m[\u001b[0m\u001b[1;34m'source'\u001b[0m\u001b[1;33m]\u001b[0m\u001b[1;33m\u001b[0m\u001b[0m\n\u001b[0m\u001b[0;32m      2\u001b[0m \u001b[0mr_source\u001b[0m\u001b[1;33m(\u001b[0m\u001b[1;34m'pyss2.R'\u001b[0m\u001b[1;33m)\u001b[0m \u001b[1;31m#will load/run the script\u001b[0m\u001b[1;33m\u001b[0m\u001b[0m\n\u001b[0;32m      3\u001b[0m \u001b[0mr_func\u001b[0m \u001b[1;33m=\u001b[0m \u001b[0mrobjects\u001b[0m\u001b[1;33m.\u001b[0m\u001b[0mglobalenv\u001b[0m\u001b[1;33m[\u001b[0m\u001b[1;34m'pyss2'\u001b[0m\u001b[1;33m]\u001b[0m\u001b[1;33m\u001b[0m\u001b[0m\n\u001b[0;32m      4\u001b[0m \u001b[0ma\u001b[0m \u001b[1;33m=\u001b[0m \u001b[0mrobjects\u001b[0m\u001b[1;33m.\u001b[0m\u001b[0mr\u001b[0m\u001b[1;33m.\u001b[0m\u001b[0mrnorm\u001b[0m\u001b[1;33m(\u001b[0m\u001b[1;36m10\u001b[0m\u001b[1;33m)\u001b[0m\u001b[1;33m\u001b[0m\u001b[0m\n\u001b[0;32m      5\u001b[0m \u001b[0mb\u001b[0m \u001b[1;33m=\u001b[0m \u001b[0mrobjects\u001b[0m\u001b[1;33m.\u001b[0m\u001b[0mr\u001b[0m\u001b[1;33m.\u001b[0m\u001b[0mrnorm\u001b[0m\u001b[1;33m(\u001b[0m\u001b[1;36m10\u001b[0m\u001b[1;33m)\u001b[0m\u001b[1;33m\u001b[0m\u001b[0m\n",
        "\u001b[1;31mNameError\u001b[0m: name 'robjects' is not defined"
       ]
      }
     ],
     "prompt_number": 83
    },
    {
     "cell_type": "markdown",
     "metadata": {
      "slideshow": {
       "slide_type": "slide"
      }
     },
     "source": [
      "#pyRServe Example"
     ]
    },
    {
     "cell_type": "markdown",
     "metadata": {
      "slideshow": {
       "slide_type": "fragment"
      }
     },
     "source": [
      "* You must need to install RServe from cran\n",
      "* apt-get install r-cran-rserve \n",
      "* install.packages(\"Rserve\") #in R!\n",
      "# \n",
      "Before running pyrserve run Rserve from comand line:\n",
      "# \n",
      "$ R CMD Rserve\n"
     ]
    },
    {
     "cell_type": "code",
     "collapsed": false,
     "input": [
      "import pyRserve, numpy\n",
      "import pandas as pd"
     ],
     "language": "python",
     "metadata": {
      "slideshow": {
       "slide_type": "slide"
      }
     },
     "outputs": [],
     "prompt_number": 54
    },
    {
     "cell_type": "code",
     "collapsed": false,
     "input": [
      "conn = pyRserve.connect() #host and port can be defined (default localhost and 6311)\n",
      "conn.eval(\"1 + 1\")"
     ],
     "language": "python",
     "metadata": {
      "slideshow": {
       "slide_type": "subslide"
      }
     },
     "outputs": [
      {
       "metadata": {},
       "output_type": "pyout",
       "prompt_number": 55,
       "text": [
        "2.0"
       ]
      }
     ],
     "prompt_number": 55
    },
    {
     "cell_type": "code",
     "collapsed": false,
     "input": [
      "my_script = '''\n",
      "pyss3 <- function(a){\n",
      "        print(c(a,\">----\"))\n",
      "        \n",
      "}\n",
      "'''\n",
      "conn.voidEval(my_script)\n",
      "print(conn.r.sapply(numpy.array([1,2,3]), conn.r.pyss3))"
     ],
     "language": "python",
     "metadata": {
      "slideshow": {
       "slide_type": "subslide"
      }
     },
     "outputs": [
      {
       "output_type": "stream",
       "stream": "stdout",
       "text": [
        "[['1' '2' '3']\n",
        " ['>----' '>----' '>----']]\n"
       ]
      }
     ],
     "prompt_number": 56
    },
    {
     "cell_type": "markdown",
     "metadata": {
      "slideshow": {
       "slide_type": "slide"
      }
     },
     "source": [
      "#The way I usually share data"
     ]
    },
    {
     "cell_type": "markdown",
     "metadata": {
      "slideshow": {
       "slide_type": "fragment"
      }
     },
     "source": [
      "## I create my own mess:\n",
      "<img src=\"images/mess.gif\"></img>\n",
      "### CSV, HDF5 or other DB systems"
     ]
    },
    {
     "cell_type": "code",
     "collapsed": false,
     "input": [
      "data = pd.DataFrame([1,2,3])\n",
      "data.to_csv(\"data/data.csv\")\n",
      "print(data)"
     ],
     "language": "python",
     "metadata": {
      "slideshow": {
       "slide_type": "subslide"
      }
     },
     "outputs": [
      {
       "output_type": "stream",
       "stream": "stdout",
       "text": [
        "   0\n",
        "0  1\n",
        "1  2\n",
        "2  3\n"
       ]
      }
     ],
     "prompt_number": 51
    },
    {
     "cell_type": "code",
     "collapsed": false,
     "input": [
      "%%R\n",
      "read.csv(\"data/data.csv\", sep=\";\", dec=\",\")"
     ],
     "language": "python",
     "metadata": {
      "slideshow": {
       "slide_type": "subslide"
      }
     },
     "outputs": [
      {
       "metadata": {},
       "output_type": "display_data",
       "text": [
        "  X.0\n",
        "1 0.1\n",
        "2 1.2\n",
        "3 2.3\n"
       ]
      }
     ],
     "prompt_number": 50
    },
    {
     "cell_type": "code",
     "collapsed": false,
     "input": [
      "conn.voidEval('''\n",
      "\n",
      "pyss5 <- function(filepath, sep=\";\", dec=\",\"){\n",
      "\n",
      "    file <- read.csv(filepath, sep=sep, dec=dec)\n",
      "    return(file)\n",
      "}\n",
      "\n",
      "''')\n",
      "\n",
      "file = conn.r.pyss5(\"/home/oier/Documents/github/pyss_talks/pyss_talks/rpy2/data/data.csv\")\n",
      "print(type(file))\n",
      "print(file.values)"
     ],
     "language": "python",
     "metadata": {
      "slideshow": {
       "slide_type": "subslide"
      }
     },
     "outputs": [
      {
       "output_type": "stream",
       "stream": "stdout",
       "text": [
        "<class 'pyRserve.taggedContainers.TaggedList'>\n",
        "[array([ 0.1,  1.2,  2.3])]\n"
       ]
      }
     ],
     "prompt_number": 81
    },
    {
     "cell_type": "markdown",
     "metadata": {
      "slideshow": {
       "slide_type": "slide"
      }
     },
     "source": [
      "<img src=\"images/minions.gif\"></img>\n",
      "#RAW DATA -> PYTHON -> YOUR DATA -> R -> VISULIZED DATA"
     ]
    },
    {
     "cell_type": "markdown",
     "metadata": {
      "slideshow": {
       "slide_type": "subslide"
      }
     },
     "source": [
      "#Bonus track\n",
      "\n",
      "##You can even load shiny library in python\n",
      "* shiny is a web based interactive ploting library\n",
      "* python has a similar module: bokeh\n",
      "\n",
      "Note: remember to install it first!"
     ]
    },
    {
     "cell_type": "code",
     "collapsed": false,
     "input": [
      "conn.voidEval('''\n",
      "library(shiny)\n",
      "runExample(\"01_hello\")\n",
      "''')"
     ],
     "language": "python",
     "metadata": {
      "slideshow": {
       "slide_type": "fragment"
      }
     },
     "outputs": []
    },
    {
     "cell_type": "markdown",
     "metadata": {
      "slideshow": {
       "slide_type": "subslide"
      }
     },
     "source": [
      "#DONT FORGET"
     ]
    },
    {
     "cell_type": "code",
     "collapsed": false,
     "input": [
      "conn.close()"
     ],
     "language": "python",
     "metadata": {
      "slideshow": {
       "slide_type": "fragment"
      }
     },
     "outputs": []
    },
    {
     "cell_type": "markdown",
     "metadata": {
      "slideshow": {
       "slide_type": "slide"
      }
     },
     "source": [
      "#Questions?\n",
      "\n",
      "<img src=\"images/questions.gif\"></img>"
     ]
    }
   ],
   "metadata": {}
  }
 ]
}