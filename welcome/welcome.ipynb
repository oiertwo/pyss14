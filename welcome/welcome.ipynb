{
 "metadata": {
  "celltoolbar": "Slideshow",
  "name": "",
  "signature": "sha256:ca2ae6b0526eedcd7033dac01d5b148743ccfaae1de50fce2b1a2e08b7e764d7"
 },
 "nbformat": 3,
 "nbformat_minor": 0,
 "worksheets": [
  {
   "cells": [
    {
     "cell_type": "markdown",
     "metadata": {
      "slideshow": {
       "slide_type": "slide"
      }
     },
     "source": [
      "<h1 align=\"center\">WELCOME TO SAN SEBASTIAN</h1>\n",
      "\n",
      "<img src=\"images/ssview.png\" width=600 align=\"center\"></img>\n"
     ]
    },
    {
     "cell_type": "markdown",
     "metadata": {
      "slideshow": {
       "slide_type": "subslide"
      }
     },
     "source": [
      "<h1 align=\"center\">WELCOME TO</h1>\n",
      "\n",
      "<img src=\"images/pyss.png\" align=\"center\"></img>"
     ]
    },
    {
     "cell_type": "markdown",
     "metadata": {
      "slideshow": {
       "slide_type": "slide"
      }
     },
     "source": [
      "#Keynote speakers"
     ]
    },
    {
     "cell_type": "markdown",
     "metadata": {
      "slideshow": {
       "slide_type": "subslide"
      }
     },
     "source": [
      "#Ben Nuttall\n",
      "<img src=\"images/ben.png\" align=\"left\" width=\"150\">Ben Nuttall is a web and software developer based in Cambridge, UK. He does education and outreach at the Raspberry Pi Foundation where he runs their website, writes learning resources, trains teachers and develops interesting Pi projects. Ben\u2019s an avid Python programmer, an advocate of free and open source software and likes using GitHub to collaborate on a different projects \u2013 code and otherwise \u2013 including its use in education. Ben ran the Manchester Raspberry Jam, volunteered for the STEM (Science, Technology, Enginnering and Maths) initiative and curated a weekly newsletter for Raspberry Pi news and projects at piweekly.net and proceeded to be hired by the Foundation to go full time with his outreach work.</img>"
     ]
    },
    {
     "cell_type": "markdown",
     "metadata": {
      "slideshow": {
       "slide_type": "fragment"
      }
     },
     "source": [
      "#Keynote talk: Python on Py, Today at 16.30"
     ]
    },
    {
     "cell_type": "markdown",
     "metadata": {
      "slideshow": {
       "slide_type": "subslide"
      }
     },
     "source": [
      "#Ga\u00ebl Varoquaux\n",
      "<img src=\"images/gael.jpg\" align=\"right\" width=\"150\">Ga\u00ebl Varoquaux is an INRIA faculty researcher working on computational science for brain imaging in the Neurospin brain research institute (Paris, France). His research focuses on modeling and mining brain activity in relation to cognition. Years before the NSA, he was hoping to make bleeding-edge data processing available across new fields, and he has been working on a mastermind plan building easy-to-use open-source software in Python. He is a core developer of scikit-learn, joblib, and Mayavi, a nominated member of the PSF, and often teaches scientific computing with Python using http://scipy-lectures.github.com.</img>"
     ]
    },
    {
     "cell_type": "markdown",
     "metadata": {
      "slideshow": {
       "slide_type": "fragment"
      }
     },
     "source": [
      "#Keynote talk: Building a Cutting-Edge Data Process Environment on a Budget. Saturday morning"
     ]
    },
    {
     "cell_type": "markdown",
     "metadata": {
      "slideshow": {
       "slide_type": "subslide"
      }
     },
     "source": [
      "#Luis Pedro Coelho\n",
      "<img src=\"images/luis.png\" align=\"left\" width=150> \n",
      "\n",
      "Luis Pedro Coelho is a computational biologist who works at the European Molecular Biology Laboratory (EMBL) in microbial community analysis using metagenomics. He has a PhD from Carnegie Mellon University (2011), where he worked on bioimage informatics for subcellular location analysis. He blogs about science at metarabbit.wordpress.com and tweet as @luispedrocoelho. He co-wrote Building Machine Learning Systems with Python. He is author and mantainer of many Python modules as Mahotas, Jug and Milk.</img>"
     ]
    },
    {
     "cell_type": "markdown",
     "metadata": {
      "slideshow": {
       "slide_type": "fragment"
      }
     },
     "source": [
      "#Keynote talk: Python for computer vision in biology and beyond, sunday morning"
     ]
    },
    {
     "cell_type": "markdown",
     "metadata": {
      "slideshow": {
       "slide_type": "fragment"
      }
     },
     "source": [
      "#Training session: Computer vision with Python Saturday midday"
     ]
    },
    {
     "cell_type": "markdown",
     "metadata": {
      "slideshow": {
       "slide_type": "slide"
      }
     },
     "source": [
      "#CREATION of Python San Sebastian\n",
      "\n",
      "#It all began @ europython 2014 (Berlin)\n",
      "<img src=\"images/europython.jpg\" width=600></img>\n",
      "\n",
      "#We thought we could create a better conference at least in this points:\n",
      "* Lunch\n",
      "* Coffe breaks\n",
      "    * At least with more food\n",
      "* Venue (Where python meet the beach)\n",
      "\n",
      "#Never told a basque \"\u00a1A QUE NO HAY HUEVOS!\"\n",
      "\n",
      "#Also to creatre a community in python"
     ]
    },
    {
     "cell_type": "markdown",
     "metadata": {
      "slideshow": {
       "slide_type": "slide"
      }
     },
     "source": [
      "#USEFULL INFORMATION"
     ]
    },
    {
     "cell_type": "markdown",
     "metadata": {
      "slideshow": {
       "slide_type": "fragment"
      }
     },
     "source": [
      "##How long will take the talks?\n",
      "we estimate this:\n",
      "* 5 minutes to plug and preparation\n",
      "* 30 minutes talk\n",
      "* 5/10 minutes of questions\n",
      "\n",
      "##How we will receive the files?\n",
      "* option 1: You can plug your laptop\n",
      "* option 2: plug our laptop and bring you information by usb or internet (github or other method)\n",
      "\n",
      "note: care yourself if you bring an special mac book pro lite..."
     ]
    },
    {
     "cell_type": "markdown",
     "metadata": {
      "slideshow": {
       "slide_type": "subslide"
      }
     },
     "source": [
      "##Do we have WIFI?\n",
      "YES WE DO!\n",
      "\n",
      "##ESSID: \n",
      "EHU-wGUEST\n",
      "\n",
      "##USER:\n",
      "pyss14\n",
      "\n",
      "##PASSWORD\n",
      "pyss14\n"
     ]
    },
    {
     "cell_type": "markdown",
     "metadata": {
      "slideshow": {
       "slide_type": "subslide"
      }
     },
     "source": [
      "#REMEMBER\n",
      "\n",
      "We have 2 bus tickets per day with the badges\n",
      "\n",
      "<div align=\"center\"> thanks to</div>\n",
      "\n",
      "<img src=\"images/sponsors/udala.gif\">"
     ]
    },
    {
     "cell_type": "markdown",
     "metadata": {
      "slideshow": {
       "slide_type": "fragment"
      }
     },
     "source": [
      "#TAG FOR SOCIAL NETWORKS:\n",
      "\n",
      "\\#PySS14"
     ]
    },
    {
     "cell_type": "markdown",
     "metadata": {
      "slideshow": {
       "slide_type": "subslide"
      }
     },
     "source": [
      "#COFFEE AND LUNCH\n",
      "\n",
      "\n",
      "<div align=\"center\">We are bringing you the best water for your coffee thanks to</div>\n",
      "<img src=\"images/sponsors/alzola.jpg\" width=150 align=\"center\"> </img>\n",
      "<div>\n",
      "    <img src=\"images/coffee.png\" width=600>\n",
      "</div>\n",
      "\n",
      "\n",
      "\n",
      "## The coffee and the food will not be bad"
     ]
    },
    {
     "cell_type": "markdown",
     "metadata": {
      "slideshow": {
       "slide_type": "slide"
      }
     },
     "source": [
      "#LUNCH\n",
      "\n",
      "<img src=\"images/lunch.png\" width=600 align=\"center\"></img>"
     ]
    },
    {
     "cell_type": "markdown",
     "metadata": {
      "slideshow": {
       "slide_type": "slide"
      }
     },
     "source": [
      "#SOCIAL EVENTS"
     ]
    },
    {
     "cell_type": "markdown",
     "metadata": {
      "slideshow": {
       "slide_type": "fragment"
      }
     },
     "source": [
      "#Pintxo's night: 2 meeting points\n",
      "\n",
      "1. 19.30 in front of the venue\n",
      "2. 20.00 in the city center\n",
      "\n",
      "#Cider house: 2 meeting points\n",
      "\n",
      "1. 19.30 in front of the venue\n",
      "2. 20.00 in the cider house: C/ Mat\u00eda, 52 Bajo (20008) Donostia - San Sebasti\u00e1n\n",
      "\n",
      "\n",
      "If you are not meeting in forn of the venue and you do not know where is the other meeting point contact any staff member during the day."
     ]
    },
    {
     "cell_type": "markdown",
     "metadata": {
      "slideshow": {
       "slide_type": "fragment"
      }
     },
     "source": [
      "#YOU CAN STILL JOIN US!!!\n",
      "\n",
      "PRICES:\n",
      "1. Pintxo's night: 30\u20ac\n",
      "2. Cider house: 40\u20ac"
     ]
    },
    {
     "cell_type": "markdown",
     "metadata": {
      "slideshow": {
       "slide_type": "slide"
      }
     },
     "source": [
      "#For any question or help during the conference\n",
      "contact to the organizers or helpdesk"
     ]
    },
    {
     "cell_type": "markdown",
     "metadata": {
      "slideshow": {
       "slide_type": "slide"
      }
     },
     "source": [
      "#Questions?"
     ]
    },
    {
     "cell_type": "markdown",
     "metadata": {
      "slideshow": {
       "slide_type": "slide"
      }
     },
     "source": [
      "<h1 align=\"center\">Thanks for comming to<h1>\n",
      "<img src=\"images/pyss.png\" align=\"center\" width=600></img>\n",
      "<img src=\"images/sponsors/todos.png\" align=\"center\" width=900></img>"
     ]
    }
   ],
   "metadata": {}
  }
 ]
}